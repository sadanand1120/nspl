{
 "cells": [
  {
   "cell_type": "code",
   "execution_count": 1,
   "metadata": {},
   "outputs": [],
   "source": [
    "import os\n",
    "import sys\n",
    "nspl_root_dir = os.environ.get(\"NSPL_REPO\")\n",
    "from segments import SegmentsClient\n",
    "import shutil\n",
    "import requests\n",
    "import cv2\n",
    "import numpy as np\n",
    "from terrainseg.inference import TerrainSegFormer"
   ]
  },
  {
   "cell_type": "code",
   "execution_count": 2,
   "metadata": {},
   "outputs": [],
   "source": [
    "def download_file(url, filename):\n",
    "    # Send a GET request to the URL\n",
    "    response = requests.get(url)\n",
    "\n",
    "    # Check if the request was successful\n",
    "    if response.status_code == 200:\n",
    "        # Open a local file in binary write mode\n",
    "        with open(filename, 'wb') as f:\n",
    "            f.write(response.content)\n",
    "        print(\"File downloaded successfully.\")\n",
    "    else:\n",
    "        print(f\"Failed to download the file. Status code: {response.status_code}\")"
   ]
  },
  {
   "cell_type": "code",
   "execution_count": 3,
   "metadata": {},
   "outputs": [],
   "source": [
    "def read_img_bin(img_path):\n",
    "    img = cv2.imread(img_path)\n",
    "    img_np = np.array(img)\n",
    "    return img_np[:, :, 2].squeeze()"
   ]
  },
  {
   "cell_type": "code",
   "execution_count": 4,
   "metadata": {},
   "outputs": [],
   "source": [
    "def download_gts(dataset_identifier, gt_dir):\n",
    "    # Set up Segments.ai client\n",
    "    api_key = os.environ.get(\"SEGMENTSAI_API_KEY\")\n",
    "    client = SegmentsClient(api_key)\n",
    "\n",
    "    all_samples = client.get_samples(dataset_identifier,\n",
    "                                     labelset=\"ground-truth\",\n",
    "                                     sort=\"name\",\n",
    "                                     direction=\"asc\")\n",
    "\n",
    "    for sample in all_samples:\n",
    "        filename = sample.name\n",
    "        print(f\"Processing {filename}...\")\n",
    "        sample_uuid = sample.uuid\n",
    "        label = client.get_label(sample_uuid, labelset=\"ground-truth\")\n",
    "        print(\"Downloading segmentation bitmap...\")\n",
    "        url = label.attributes.segmentation_bitmap.url\n",
    "        os.makedirs(gt_dir, exist_ok=True)\n",
    "        download_file(url, f\"{gt_dir}/{filename}\")"
   ]
  },
  {
   "cell_type": "code",
   "execution_count": 5,
   "metadata": {},
   "outputs": [],
   "source": [
    "def download_imgs(dataset_identifier, img_dir):\n",
    "    # Set up Segments.ai client\n",
    "    api_key = os.environ.get(\"SEGMENTSAI_API_KEY\")\n",
    "    client = SegmentsClient(api_key)\n",
    "\n",
    "    all_samples = client.get_samples(dataset_identifier,\n",
    "                                     labelset=\"ground-truth\",\n",
    "                                     sort=\"name\",\n",
    "                                     direction=\"asc\")\n",
    "\n",
    "    for sample in all_samples:\n",
    "        filename = sample.name\n",
    "        print(f\"Processing {filename}...\")\n",
    "        url = sample.attributes.image.url\n",
    "        print(f\"Downloading image from {url}...\")\n",
    "        os.makedirs(img_dir, exist_ok=True)\n",
    "        download_file(url, f\"{img_dir}/{filename}\")"
   ]
  },
  {
   "cell_type": "code",
   "execution_count": null,
   "metadata": {},
   "outputs": [],
   "source": [
    "gt_dir = \"/home/dynamo/AMRL_Research/repos/nspl/scripts/safety/plots/userstudy/preds/dom\"\n",
    "dataset_identifier = \"smodak/safety-userstudy-dom-preds\"\n",
    "download_gts(dataset_identifier, gt_dir)"
   ]
  },
  {
   "cell_type": "code",
   "execution_count": 12,
   "metadata": {},
   "outputs": [],
   "source": [
    "img_dir = \"/home/dynamo/AMRL_Research/repos/nspl/scripts/safety/plots/userstudy/images\"\n",
    "gt_dir = \"/home/dynamo/AMRL_Research/repos/nspl/scripts/safety/plots/userstudy/preds/noah\"\n",
    "save_dir = \"/home/dynamo/AMRL_Research/repos/nspl/scripts/safety/plots/userstudy/overlays/preds/noah\"\n",
    "all_gt_paths = [os.path.join(gt_dir, f) for f in sorted(os.listdir(gt_dir)) if f.endswith(\".png\")]\n",
    "\n",
    "for gt_path in all_gt_paths:\n",
    "    gt = read_img_bin(gt_path)\n",
    "    high = np.max(gt)\n",
    "    gt[gt == high] = 0\n",
    "    gt[gt > 0] = 1\n",
    "    noext_gtname = os.path.splitext(os.path.basename(gt_path))[0]\n",
    "    cv2_img = cv2.imread(f\"{img_dir}/{noext_gtname}.png\")\n",
    "    bin_overlay = TerrainSegFormer.get_seg_overlay(cv2_img, gt, alpha=0.24)\n",
    "    # cv2.imshow(f\"{noext_gtname}.png\", bin_overlay)\n",
    "    # cv2.waitKey(0)\n",
    "    # cv2.destroyAllWindows()\n",
    "    os.makedirs(save_dir, exist_ok=True)\n",
    "    cv2.imwrite(f\"{save_dir}/{noext_gtname}.png\", bin_overlay)\n"
   ]
  },
  {
   "cell_type": "code",
   "execution_count": null,
   "metadata": {},
   "outputs": [],
   "source": []
  },
  {
   "cell_type": "code",
   "execution_count": null,
   "metadata": {},
   "outputs": [],
   "source": []
  },
  {
   "cell_type": "code",
   "execution_count": null,
   "metadata": {},
   "outputs": [],
   "source": []
  }
 ],
 "metadata": {
  "kernelspec": {
   "display_name": "lcl",
   "language": "python",
   "name": "python3"
  },
  "language_info": {
   "codemirror_mode": {
    "name": "ipython",
    "version": 3
   },
   "file_extension": ".py",
   "mimetype": "text/x-python",
   "name": "python",
   "nbconvert_exporter": "python",
   "pygments_lexer": "ipython3",
   "version": "3.8.16"
  }
 },
 "nbformat": 4,
 "nbformat_minor": 2
}
